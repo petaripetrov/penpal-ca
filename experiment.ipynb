{
 "cells": [
  {
   "cell_type": "code",
   "execution_count": null,
   "id": "8de07250-b3be-49da-aaab-329b174d70fe",
   "metadata": {},
   "outputs": [],
   "source": [
    "%pip install transformers accelerate huggingface_hub sentencepiece "
   ]
  },
  {
   "cell_type": "code",
   "execution_count": null,
   "id": "e238d8d3-105e-4976-bdfb-ade9e277fba2",
   "metadata": {},
   "outputs": [],
   "source": [
    "import transformers\n",
    "from transformers import pipeline, AutoModelForCausalLM\n",
    "from datasets import load_dataset\n",
    "import torch\n",
    "from huggingface_hub import login\n",
    "\n",
    "token = \"INSERT HF TOKEN HERE\"\n",
    "\n",
    "login(token)"
   ]
  },
  {
   "cell_type": "code",
   "execution_count": null,
   "id": "a8b48adf-5db1-4dcd-bf9c-3e143c30c4d8",
   "metadata": {},
   "outputs": [],
   "source": [
    "class PenpalPipeline:\n",
    "    def __init__(self, asr_model, llm):\n",
    "        print(\"Loading ASR\")\n",
    "        self.asr_pipeline = pipeline(\"automatic-speech-recognition\", model=asr_model, device_map=\"auto\")\n",
    "\n",
    "        print(\"Loading Text Generation Model\")\n",
    "        self.text_gen_pipeline = pipeline(\"text-generation\", model=llm, max_new_tokens=250, device_map=\"auto\")\n",
    "\n",
    "    def __call__(self, user_input, is_audio):\n",
    "        # Refactor so is_audio is an input argument\n",
    "        prompt = user_input\n",
    "    \n",
    "        if is_audio:\n",
    "            print(\"Transcribing input\")\n",
    "            prompt = self.asr_pipeline(prompt)[\"text\"]\n",
    "        else:\n",
    "            print(\"Input is already text, skipping transcription\")\n",
    "        \n",
    "        print(\"Generating response\")\n",
    "        # TODO use flash attention for the LLM \n",
    "        res = self.text_gen_pipeline(prompt)\n",
    "\n",
    "        return res"
   ]
  },
  {
   "cell_type": "code",
   "execution_count": null,
   "id": "aa2ebea4",
   "metadata": {},
   "outputs": [],
   "source": [
    "chatbot = PenpalPipeline(asr_model=\"openai/whisper-large-v3-turbo\", llm=\"mistralai/Mistral-7B-Instruct-v0.3\")"
   ]
  },
  {
   "cell_type": "code",
   "execution_count": null,
   "id": "936500cc-51c1-431b-8680-b290fa035117",
   "metadata": {},
   "outputs": [],
   "source": [
    "# TODO set up an appropriate system prompt\n",
    "messages = [\n",
    "    {\"role\": \"system\", \"content\": \"You are a pirate chatbot who always responds in pirate speak!\"},\n",
    "    {\"role\": \"user\", \"content\": \"Who are you?\"},\n",
    "]\n",
    "\n",
    "dataset = load_dataset(\"distil-whisper/librispeech_long\", \"clean\", split=\"validation\")\n",
    "sample = dataset[0][\"audio\"]"
   ]
  },
  {
   "cell_type": "code",
   "execution_count": null,
   "id": "f3361f12",
   "metadata": {},
   "outputs": [],
   "source": [
    "res = chatbot(messages, False)\n",
    "\n",
    "print(f\"No audio response {res}\")\n",
    "\n",
    "res = chatbot(sample, True)\n",
    "print(f\"Audio response {res}\")"
   ]
  }
 ],
 "metadata": {
  "kernelspec": {
   "display_name": "Python 3 (ipykernel)",
   "language": "python",
   "name": "python3"
  },
  "language_info": {
   "codemirror_mode": {
    "name": "ipython",
    "version": 3
   },
   "file_extension": ".py",
   "mimetype": "text/x-python",
   "name": "python",
   "nbconvert_exporter": "python",
   "pygments_lexer": "ipython3",
   "version": "3.11.9"
  }
 },
 "nbformat": 4,
 "nbformat_minor": 5
}
