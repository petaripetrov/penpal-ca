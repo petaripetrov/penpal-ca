{
 "cells": [
  {
   "cell_type": "code",
   "execution_count": 60,
   "id": "b0d9997c",
   "metadata": {},
   "outputs": [],
   "source": [
    "import pandas as pd\n",
    "import matplotlib.pyplot as plt"
   ]
  },
  {
   "cell_type": "code",
   "execution_count": 94,
   "id": "0a80adac",
   "metadata": {},
   "outputs": [],
   "source": [
    "excel_file = 'data/Cultural Pen-Pal Experiment (Responses).xlsx'\n",
    "all_sheets = pd.read_excel(excel_file, sheet_name=None)\n",
    "sheets = all_sheets.keys()\n",
    "\n",
    "for sheet_name in sheets:\n",
    "    sheet = pd.read_excel(excel_file, sheet_name=sheet_name)\n",
    "    sanitized_sheet_name = sheet_name.replace(\" \", \"-\").strip(\"-\")\n",
    "    sheet.to_csv(f\"data/{sanitized_sheet_name}.csv\", index=False)"
   ]
  },
  {
   "cell_type": "code",
   "execution_count": 13,
   "id": "9b5538c4",
   "metadata": {},
   "outputs": [
    {
     "name": "stdout",
     "output_type": "stream",
     "text": [
      "Index(['ID', 'Memory', 'FA_Q1', 'FA_Q2', 'FA_Q3', 'PU_Q1', 'PU_Q2', 'PU_Q3',\n",
      "       'AE_Q1', 'AE_Q2', 'AE_Q3', 'RW_Q1', 'RW_Q2', 'RW_Q3', 'FA', 'PU', 'AE',\n",
      "       'RW'],\n",
      "      dtype='object')\n",
      "(58, 18)\n",
      "Category: FA\n",
      "Test Used: Wilcoxon signed-rank test\n",
      "Statistic: nan, p-value: nan\n"
     ]
    }
   ],
   "source": [
    "!python analysis.py"
   ]
  }
 ],
 "metadata": {
  "kernelspec": {
   "display_name": "base",
   "language": "python",
   "name": "python3"
  },
  "language_info": {
   "codemirror_mode": {
    "name": "ipython",
    "version": 3
   },
   "file_extension": ".py",
   "mimetype": "text/x-python",
   "name": "python",
   "nbconvert_exporter": "python",
   "pygments_lexer": "ipython3",
   "version": "3.12.9"
  }
 },
 "nbformat": 4,
 "nbformat_minor": 5
}
