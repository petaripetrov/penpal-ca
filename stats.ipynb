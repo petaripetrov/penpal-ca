{
 "cells": [
  {
   "cell_type": "code",
   "execution_count": 27,
   "id": "b0d9997c",
   "metadata": {},
   "outputs": [],
   "source": [
    "import pandas as pd\n",
    "import matplotlib.pyplot as plt"
   ]
  },
  {
   "cell_type": "code",
   "execution_count": 28,
   "id": "0a80adac",
   "metadata": {},
   "outputs": [],
   "source": [
    "excel_file = 'data/Cultural Pen-Pal Experiment (Responses).xlsx'\n",
    "all_sheets = pd.read_excel(excel_file, sheet_name=None)\n",
    "sheets = all_sheets.keys()\n",
    "\n",
    "for sheet_name in sheets:\n",
    "    sheet = pd.read_excel(excel_file, sheet_name=sheet_name)\n",
    "    sanitized_sheet_name = sheet_name.replace(\" \", \"-\").strip(\"-\")\n",
    "    sheet.to_csv(f\"data/{sanitized_sheet_name}.csv\", index=False)"
   ]
  },
  {
   "cell_type": "code",
   "execution_count": 1,
   "id": "9b5538c4",
   "metadata": {},
   "outputs": [
    {
     "name": "stdout",
     "output_type": "stream",
     "text": [
      "         Mixed Linear Model Regression Results\n",
      "========================================================\n",
      "Model:             MixedLM Dependent Variable: Score    \n",
      "No. Observations:  60      Method:             REML     \n",
      "No. Groups:        4       Scale:              3.0380   \n",
      "Min. group size:   14      Log-Likelihood:     -120.7164\n",
      "Max. group size:   16      Converged:          Yes      \n",
      "Mean group size:   15.0                                 \n",
      "--------------------------------------------------------\n",
      "               Coef. Std.Err.   z    P>|z| [0.025 0.975]\n",
      "--------------------------------------------------------\n",
      "Intercept      7.065    0.614 11.501 0.000  5.861  8.269\n",
      "C(Memory)[T.1] 0.711    0.450  1.580 0.114 -0.171  1.593\n",
      "Group Var      1.103    0.632                           \n",
      "========================================================\n",
      "\n",
      "   Language                       Test  Mean_Difference  Statistic   p-value\n",
      "0   Spanish              Paired t-test         1.125000   1.687971  0.135273\n",
      "1    French              Paired t-test         0.000000   0.000000  1.000000\n",
      "2  Japanese  Wilcoxon signed-rank test         0.333333   4.500000  1.000000\n",
      "3    German  Wilcoxon signed-rank test         1.250000   0.000000  0.015625\n",
      "Figure(640x480)\n",
      "            Mixed Linear Model Regression Results\n",
      "==============================================================\n",
      "Model:               MixedLM   Dependent Variable:   Score    \n",
      "No. Observations:    60        Method:               REML     \n",
      "No. Groups:          30        Scale:                1.3205   \n",
      "Min. group size:     2         Log-Likelihood:       -114.4368\n",
      "Max. group size:     2         Converged:            Yes      \n",
      "Mean group size:     2.0                                      \n",
      "--------------------------------------------------------------\n",
      "                    Coef.  Std.Err.   z    P>|z| [0.025 0.975]\n",
      "--------------------------------------------------------------\n",
      "Intercept            7.402    1.473  5.024 0.000  4.514 10.290\n",
      "Memory               1.657    0.772  2.148 0.032  0.145  3.170\n",
      "NumLanguages         0.045    0.262  0.173 0.862 -0.469  0.560\n",
      "Memory:NumLanguages -0.276    0.207 -1.328 0.184 -0.682  0.131\n",
      "PriorExperience     -0.764    1.363 -0.561 0.575 -3.436  1.907\n",
      "CAFamiliarity        1.046    0.811  1.289 0.197 -0.544  2.635\n",
      "Group Var            2.658    1.112                           \n",
      "==============================================================\n",
      "\n",
      "Index(['ID', 'Memory', 'FA_Q1', 'FA_Q2', 'FA_Q3', 'PU_Q1', 'PU_Q2', 'PU_Q3',\n",
      "       'AE_Q1', 'AE_Q2', 'AE_Q3', 'RW_Q1', 'RW_Q2', 'RW_Q3', 'FA', 'PU', 'AE',\n",
      "       'RW'],\n",
      "      dtype='object')\n",
      "(58, 18)\n",
      "FA: Wilcoxon signed-rank test: Statistic=132.5, p-value=0.41840760679648425\n",
      "PU: Wilcoxon signed-rank test: Statistic=93.5, p-value=0.036757088757021765\n",
      "AE: Wilcoxon signed-rank test: Statistic=52.5, p-value=0.6693121437443776\n",
      "RW: Wilcoxon signed-rank test: Statistic=49.5, p-value=0.003994013399415527\n"
     ]
    }
   ],
   "source": [
    "!python analysis.py"
   ]
  }
 ],
 "metadata": {
  "kernelspec": {
   "display_name": "base",
   "language": "python",
   "name": "python3"
  },
  "language_info": {
   "codemirror_mode": {
    "name": "ipython",
    "version": 3
   },
   "file_extension": ".py",
   "mimetype": "text/x-python",
   "name": "python",
   "nbconvert_exporter": "python",
   "pygments_lexer": "ipython3",
   "version": "3.12.9"
  }
 },
 "nbformat": 4,
 "nbformat_minor": 5
}
