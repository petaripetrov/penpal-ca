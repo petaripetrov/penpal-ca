{
 "cells": [
  {
   "cell_type": "code",
   "execution_count": 9,
   "id": "6cb4c74a",
   "metadata": {},
   "outputs": [
    {
     "name": "stdout",
     "output_type": "stream",
     "text": [
      "Collecting statsmodels\n",
      "  Downloading statsmodels-0.14.4-cp312-cp312-macosx_11_0_arm64.whl.metadata (9.2 kB)\n",
      "Requirement already satisfied: numpy<3,>=1.22.3 in /opt/miniconda3/lib/python3.12/site-packages (from statsmodels) (1.26.4)\n",
      "Requirement already satisfied: scipy!=1.9.2,>=1.8 in /opt/miniconda3/lib/python3.12/site-packages (from statsmodels) (1.14.1)\n",
      "Requirement already satisfied: pandas!=2.1.0,>=1.4 in /opt/miniconda3/lib/python3.12/site-packages (from statsmodels) (2.2.3)\n",
      "Collecting patsy>=0.5.6 (from statsmodels)\n",
      "  Using cached patsy-1.0.1-py2.py3-none-any.whl.metadata (3.3 kB)\n",
      "Requirement already satisfied: packaging>=21.3 in /opt/miniconda3/lib/python3.12/site-packages (from statsmodels) (23.2)\n",
      "Requirement already satisfied: python-dateutil>=2.8.2 in /opt/miniconda3/lib/python3.12/site-packages (from pandas!=2.1.0,>=1.4->statsmodels) (2.8.2)\n",
      "Requirement already satisfied: pytz>=2020.1 in /opt/miniconda3/lib/python3.12/site-packages (from pandas!=2.1.0,>=1.4->statsmodels) (2024.1)\n",
      "Requirement already satisfied: tzdata>=2022.7 in /opt/miniconda3/lib/python3.12/site-packages (from pandas!=2.1.0,>=1.4->statsmodels) (2024.2)\n",
      "Requirement already satisfied: six>=1.5 in /opt/miniconda3/lib/python3.12/site-packages (from python-dateutil>=2.8.2->pandas!=2.1.0,>=1.4->statsmodels) (1.16.0)\n",
      "Downloading statsmodels-0.14.4-cp312-cp312-macosx_11_0_arm64.whl (9.9 MB)\n",
      "\u001b[2K   \u001b[90m━━━━━━━━━━━━━━━━━━━━━━━━━━━━━━━━━━━━━━━━\u001b[0m \u001b[32m9.9/9.9 MB\u001b[0m \u001b[31m42.5 MB/s\u001b[0m eta \u001b[36m0:00:00\u001b[0m00:01\u001b[0m00:01\u001b[0m\n",
      "\u001b[?25hUsing cached patsy-1.0.1-py2.py3-none-any.whl (232 kB)\n",
      "Installing collected packages: patsy, statsmodels\n",
      "Successfully installed patsy-1.0.1 statsmodels-0.14.4\n",
      "Note: you may need to restart the kernel to use updated packages.\n"
     ]
    }
   ],
   "source": [
    "%pip install statsmodels"
   ]
  },
  {
   "cell_type": "code",
   "execution_count": 2,
   "id": "b0d9997c",
   "metadata": {},
   "outputs": [],
   "source": [
    "import pandas as pd\n",
    "import matplotlib.pyplot as plt"
   ]
  },
  {
   "cell_type": "code",
   "execution_count": 18,
   "id": "0a80adac",
   "metadata": {},
   "outputs": [],
   "source": [
    "excel_file = 'data/Cultural Pen-Pal Experiment (Responses).xlsx'\n",
    "all_sheets = pd.read_excel(excel_file, sheet_name=None)\n",
    "sheets = all_sheets.keys()\n",
    "\n",
    "for sheet_name in sheets:\n",
    "    sheet = pd.read_excel(excel_file, sheet_name=sheet_name)\n",
    "    sanitized_sheet_name = sheet_name.replace(\" \", \"-\").strip(\"-\")\n",
    "    sheet.to_csv(f\"data/{sanitized_sheet_name}.csv\", index=False)"
   ]
  },
  {
   "cell_type": "code",
   "execution_count": 19,
   "id": "9b5538c4",
   "metadata": {},
   "outputs": [
    {
     "name": "stdout",
     "output_type": "stream",
     "text": [
      "French: Paired t-test: Statistic=0.8885233166386385, p-value=0.41495427007979335\n",
      "Spanish: Paired t-test: Statistic=-1.1785113019775795, p-value=0.28320902654946883\n",
      "When I was using Cultural Pen-Pal agent, I lost track of the world around me.  : Wilcoxon signed-rank test: Statistic=16.0, p-value=0.22219460822417114\n",
      "I lost myself in this experience .  : Wilcoxon signed-rank test: Statistic=27.0, p-value=0.9569078186185167\n",
      "The time I spent using Cultural Pen-Pal agent just slipped away. : Wilcoxon signed-rank test: Statistic=45.5, p-value=0.649670504380643\n",
      "I found this agent confusing to use. : Wilcoxon signed-rank test: Statistic=10.0, p-value=0.016762336177186504\n",
      "I felt frustrated while using this Cultural Pen-Pal agent. : Wilcoxon signed-rank test: Statistic=9.0, p-value=0.025538256310206595\n",
      "Using this Cultural Pen-Pal agent was taxing.: Wilcoxon signed-rank test: Statistic=28.0, p-value=0.3738433266021559\n",
      "This Cultural Pen-Pal agen was attractive.: Wilcoxon signed-rank test: Statistic=5.0, p-value=0.4795001221869535\n",
      "This experience was aesthetically appealing.: Wilcoxon signed-rank test: Statistic=9.0, p-value=0.7388826803635273\n",
      "Cultural Pen-Pal agent appealed to be visual senses. : Wilcoxon signed-rank test: Statistic=1.0, p-value=0.6547208460185769\n",
      "I would recommend Cultural Pen-Pal agent to my family and friends.: Wilcoxon signed-rank test: Statistic=10.0, p-value=0.029303072040448366\n",
      "My experience was rewarding. : Wilcoxon signed-rank test: Statistic=0.0, p-value=0.0016162222150599855\n",
      "I felt interested in this experience. : Wilcoxon signed-rank test: Statistic=35.0, p-value=0.43842222971730693\n"
     ]
    }
   ],
   "source": [
    "!python analysis.py"
   ]
  }
 ],
 "metadata": {
  "kernelspec": {
   "display_name": "base",
   "language": "python",
   "name": "python3"
  },
  "language_info": {
   "codemirror_mode": {
    "name": "ipython",
    "version": 3
   },
   "file_extension": ".py",
   "mimetype": "text/x-python",
   "name": "python",
   "nbconvert_exporter": "python",
   "pygments_lexer": "ipython3",
   "version": "3.12.9"
  }
 },
 "nbformat": 4,
 "nbformat_minor": 5
}
