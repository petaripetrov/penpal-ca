{
 "cells": [
  {
   "cell_type": "code",
   "execution_count": 60,
   "id": "b0d9997c",
   "metadata": {},
   "outputs": [],
   "source": [
    "import pandas as pd\n",
    "import matplotlib.pyplot as plt"
   ]
  },
  {
   "cell_type": "code",
   "execution_count": 94,
   "id": "0a80adac",
   "metadata": {},
   "outputs": [],
   "source": [
    "excel_file = 'data/Cultural Pen-Pal Experiment (Responses).xlsx'\n",
    "all_sheets = pd.read_excel(excel_file, sheet_name=None)\n",
    "sheets = all_sheets.keys()\n",
    "\n",
    "for sheet_name in sheets:\n",
    "    sheet = pd.read_excel(excel_file, sheet_name=sheet_name)\n",
    "    sanitized_sheet_name = sheet_name.replace(\" \", \"-\").strip(\"-\")\n",
    "    sheet.to_csv(f\"data/{sanitized_sheet_name}.csv\", index=False)"
   ]
  },
  {
   "cell_type": "code",
   "execution_count": 118,
   "id": "9b5538c4",
   "metadata": {},
   "outputs": [
    {
     "name": "stdout",
     "output_type": "stream",
     "text": [
      "Index(['ID', 'Score', 'Memory', 'Language', 'NumLanguages', 'PriorExperience',\n",
      "       'CAFamiliarity'],\n",
      "      dtype='object')\n",
      "(60, 7)\n",
      "            Mixed Linear Model Regression Results\n",
      "==============================================================\n",
      "Model:               MixedLM   Dependent Variable:   Score    \n",
      "No. Observations:    60        Method:               REML     \n",
      "No. Groups:          30        Scale:                1.2788   \n",
      "Min. group size:     2         Log-Likelihood:       -114.1925\n",
      "Max. group size:     2         Converged:            Yes      \n",
      "Mean group size:     2.0                                      \n",
      "--------------------------------------------------------------\n",
      "                    Coef.  Std.Err.   z    P>|z| [0.025 0.975]\n",
      "--------------------------------------------------------------\n",
      "Intercept            7.410    1.484  4.995 0.000  4.502 10.318\n",
      "Memory               1.659    0.759  2.185 0.029  0.171  3.148\n",
      "NumLanguages         0.036    0.264  0.136 0.892 -0.481  0.553\n",
      "Memory:NumLanguages -0.264    0.205 -1.288 0.198 -0.665  0.138\n",
      "PriorExperience     -0.776    1.375 -0.564 0.572 -3.470  1.918\n",
      "CAFamiliarity        1.062    0.818  1.299 0.194 -0.541  2.666\n",
      "Group Var            2.736    1.151                           \n",
      "==============================================================\n",
      "\n"
     ]
    }
   ],
   "source": [
    "!python analysis.py"
   ]
  }
 ],
 "metadata": {
  "kernelspec": {
   "display_name": "base",
   "language": "python",
   "name": "python3"
  },
  "language_info": {
   "codemirror_mode": {
    "name": "ipython",
    "version": 3
   },
   "file_extension": ".py",
   "mimetype": "text/x-python",
   "name": "python",
   "nbconvert_exporter": "python",
   "pygments_lexer": "ipython3",
   "version": "3.12.9"
  }
 },
 "nbformat": 4,
 "nbformat_minor": 5
}
